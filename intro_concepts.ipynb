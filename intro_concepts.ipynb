{
  "nbformat": 4,
  "nbformat_minor": 0,
  "metadata": {
    "colab": {
      "name": "intro-concepts.ipynb",
      "provenance": [],
      "machine_shape": "hm",
      "authorship_tag": "ABX9TyNGH/tEoLxKPLbGetnadz0P",
      "include_colab_link": true
    },
    "kernelspec": {
      "name": "python3",
      "display_name": "Python 3"
    },
    "language_info": {
      "name": "python"
    }
  },
  "cells": [
    {
      "cell_type": "markdown",
      "metadata": {
        "id": "view-in-github",
        "colab_type": "text"
      },
      "source": [
        "<a href=\"https://colab.research.google.com/github/noahgift/python-for-devops-april-2022/blob/main/intro_concepts.ipynb\" target=\"_parent\"><img src=\"https://colab.research.google.com/assets/colab-badge.svg\" alt=\"Open In Colab\"/></a>"
      ]
    },
    {
      "cell_type": "markdown",
      "metadata": {
        "id": "6HJtGuiKUYFU"
      },
      "source": [
        "### Introductory Concepts\n",
        "*  **Procedural Statements**\n",
        "*  Strings and String Formatting\n",
        "*  Numbers and Arithmetic Operations\n",
        "*  Data Structures\n",
        "\n"
      ]
    },
    {
      "cell_type": "markdown",
      "source": [
        "#### Procedural Statements"
      ],
      "metadata": {
        "id": "19kLrCcsPX3Q"
      }
    },
    {
      "cell_type": "code",
      "execution_count": 1,
      "metadata": {
        "colab": {
          "base_uri": "https://localhost:8080/"
        },
        "id": "hkCnk1r_O0os",
        "outputId": "68b21610-9a0c-49ac-ce01-96e85fdf6ab7"
      },
      "outputs": [
        {
          "output_type": "stream",
          "name": "stdout",
          "text": [
            "Hello World\n"
          ]
        }
      ],
      "source": [
        "print(\"Hello World\")"
      ]
    },
    {
      "cell_type": "code",
      "source": [
        "x = 1\n",
        "y = 1\n",
        "result = x + y"
      ],
      "metadata": {
        "id": "OWvtYa39PeUY"
      },
      "execution_count": 2,
      "outputs": []
    },
    {
      "cell_type": "code",
      "source": [
        "result"
      ],
      "metadata": {
        "colab": {
          "base_uri": "https://localhost:8080/"
        },
        "id": "N8LQULMCPmZx",
        "outputId": "aa7f9a92-6d1f-4c39-c6d3-fc885d6897b4"
      },
      "execution_count": 3,
      "outputs": [
        {
          "output_type": "execute_result",
          "data": {
            "text/plain": [
              "2"
            ]
          },
          "metadata": {},
          "execution_count": 3
        }
      ]
    },
    {
      "cell_type": "code",
      "source": [
        ""
      ],
      "metadata": {
        "id": "gvr3tRtTPnW4"
      },
      "execution_count": null,
      "outputs": []
    }
  ]
}