{
  "nbformat": 4,
  "nbformat_minor": 0,
  "metadata": {
    "colab": {
      "name": "intro-concepts.ipynb",
      "provenance": [],
      "collapsed_sections": [
        "19kLrCcsPX3Q",
        "Bxds-FAxPy2n"
      ],
      "machine_shape": "hm",
      "authorship_tag": "ABX9TyMp5xTifrDxHeqt5/N9riHS",
      "include_colab_link": true
    },
    "kernelspec": {
      "name": "python3",
      "display_name": "Python 3"
    },
    "language_info": {
      "name": "python"
    }
  },
  "cells": [
    {
      "cell_type": "markdown",
      "metadata": {
        "id": "view-in-github",
        "colab_type": "text"
      },
      "source": [
        "<a href=\"https://colab.research.google.com/github/noahgift/python-for-devops-april-2022/blob/main/intro_concepts.ipynb\" target=\"_parent\"><img src=\"https://colab.research.google.com/assets/colab-badge.svg\" alt=\"Open In Colab\"/></a>"
      ]
    },
    {
      "cell_type": "markdown",
      "metadata": {
        "id": "6HJtGuiKUYFU"
      },
      "source": [
        "### Introductory Concepts\n",
        "*  **Procedural Statements**\n",
        "*  Strings and String Formatting\n",
        "*  Numbers and Arithmetic Operations\n",
        "*  Data Structures\n",
        "\n"
      ]
    },
    {
      "cell_type": "markdown",
      "source": [
        "#### Procedural Statements"
      ],
      "metadata": {
        "id": "19kLrCcsPX3Q"
      }
    },
    {
      "cell_type": "code",
      "execution_count": 1,
      "metadata": {
        "colab": {
          "base_uri": "https://localhost:8080/"
        },
        "id": "hkCnk1r_O0os",
        "outputId": "68b21610-9a0c-49ac-ce01-96e85fdf6ab7"
      },
      "outputs": [
        {
          "output_type": "stream",
          "name": "stdout",
          "text": [
            "Hello World\n"
          ]
        }
      ],
      "source": [
        "print(\"Hello World\")"
      ]
    },
    {
      "cell_type": "code",
      "source": [
        "x = 1\n",
        "y = 1\n",
        "result = x + y"
      ],
      "metadata": {
        "id": "OWvtYa39PeUY"
      },
      "execution_count": 2,
      "outputs": []
    },
    {
      "cell_type": "code",
      "source": [
        "result"
      ],
      "metadata": {
        "colab": {
          "base_uri": "https://localhost:8080/"
        },
        "id": "N8LQULMCPmZx",
        "outputId": "aa7f9a92-6d1f-4c39-c6d3-fc885d6897b4"
      },
      "execution_count": 3,
      "outputs": [
        {
          "output_type": "execute_result",
          "data": {
            "text/plain": [
              "2"
            ]
          },
          "metadata": {},
          "execution_count": 3
        }
      ]
    },
    {
      "cell_type": "code",
      "source": [
        ""
      ],
      "metadata": {
        "id": "gvr3tRtTPnW4"
      },
      "execution_count": null,
      "outputs": []
    },
    {
      "cell_type": "markdown",
      "source": [
        "#### Strings and String Formatting"
      ],
      "metadata": {
        "id": "Bxds-FAxPy2n"
      }
    },
    {
      "cell_type": "code",
      "source": [
        "color = \"red\"\n",
        "print(f\"My favorite shirt is {color}\")"
      ],
      "metadata": {
        "colab": {
          "base_uri": "https://localhost:8080/"
        },
        "id": "NPTDW5duPz9_",
        "outputId": "d1b3dc01-c499-4671-ee24-678aa3f108d6"
      },
      "execution_count": 4,
      "outputs": [
        {
          "output_type": "stream",
          "name": "stdout",
          "text": [
            "My favorite shirt is red\n"
          ]
        }
      ]
    },
    {
      "cell_type": "code",
      "source": [
        ""
      ],
      "metadata": {
        "id": "092_iMb5P_jk"
      },
      "execution_count": null,
      "outputs": []
    },
    {
      "cell_type": "markdown",
      "source": [
        "#### Numbers and Arithmetic Operations"
      ],
      "metadata": {
        "id": "4CMfbJQ2QEdW"
      }
    },
    {
      "cell_type": "code",
      "source": [
        "x = 2\n",
        "x ** 2"
      ],
      "metadata": {
        "colab": {
          "base_uri": "https://localhost:8080/"
        },
        "id": "l-YU7u6uQFyM",
        "outputId": "1a2b3947-1f4e-45c6-e266-1943a0493eab"
      },
      "execution_count": 5,
      "outputs": [
        {
          "output_type": "execute_result",
          "data": {
            "text/plain": [
              "4"
            ]
          },
          "metadata": {},
          "execution_count": 5
        }
      ]
    },
    {
      "cell_type": "code",
      "source": [
        "X = x ** 3"
      ],
      "metadata": {
        "id": "qlQXZPl7QM3L"
      },
      "execution_count": 9,
      "outputs": []
    },
    {
      "cell_type": "code",
      "source": [
        "import math"
      ],
      "metadata": {
        "id": "31fG_OmtQOvC"
      },
      "execution_count": 7,
      "outputs": []
    },
    {
      "cell_type": "code",
      "source": [
        "math.log(X)"
      ],
      "metadata": {
        "colab": {
          "base_uri": "https://localhost:8080/"
        },
        "id": "Otm0a6g0QTN6",
        "outputId": "cbfaad41-bcc1-4a55-d3b8-ad84ee18e3f7"
      },
      "execution_count": 10,
      "outputs": [
        {
          "output_type": "execute_result",
          "data": {
            "text/plain": [
              "2.0794415416798357"
            ]
          },
          "metadata": {},
          "execution_count": 10
        }
      ]
    },
    {
      "cell_type": "code",
      "source": [
        ""
      ],
      "metadata": {
        "id": "okMcl7q5QaeY"
      },
      "execution_count": null,
      "outputs": []
    },
    {
      "cell_type": "markdown",
      "source": [
        "#### Data Structures"
      ],
      "metadata": {
        "id": "pJaJSkOjQm3v"
      }
    },
    {
      "cell_type": "markdown",
      "source": [
        "List"
      ],
      "metadata": {
        "id": "KVqr4M-rRAJE"
      }
    },
    {
      "cell_type": "code",
      "source": [
        "my_list = [\"red\", \"yellow\", \"green\"]\n",
        "type(my_list)"
      ],
      "metadata": {
        "colab": {
          "base_uri": "https://localhost:8080/"
        },
        "id": "IJMwf3poQqje",
        "outputId": "aa930334-6424-4a77-aa39-56362f4a4241"
      },
      "execution_count": 11,
      "outputs": [
        {
          "output_type": "execute_result",
          "data": {
            "text/plain": [
              "list"
            ]
          },
          "metadata": {},
          "execution_count": 11
        }
      ]
    },
    {
      "cell_type": "code",
      "source": [
        "for color in my_list:\n",
        "    print(f\"This is my favorite {color}\")"
      ],
      "metadata": {
        "colab": {
          "base_uri": "https://localhost:8080/"
        },
        "id": "WQIE1lsEQxK1",
        "outputId": "2ee57abe-991c-4527-af88-ed8a07b20246"
      },
      "execution_count": 12,
      "outputs": [
        {
          "output_type": "stream",
          "name": "stdout",
          "text": [
            "This is my favorite red\n",
            "This is my favorite yellow\n",
            "This is my favorite green\n"
          ]
        }
      ]
    },
    {
      "cell_type": "markdown",
      "source": [
        "Dictionary"
      ],
      "metadata": {
        "id": "mgGPBmF0RCcr"
      }
    },
    {
      "cell_type": "code",
      "source": [
        "my_dict = {\"breakfast\": \"eggs\", \"lunch\": \"salad\", \"dinner\": \"chicken\"}"
      ],
      "metadata": {
        "id": "8qBuQQduRDki"
      },
      "execution_count": 13,
      "outputs": []
    },
    {
      "cell_type": "code",
      "source": [
        "my_dict.keys()"
      ],
      "metadata": {
        "colab": {
          "base_uri": "https://localhost:8080/"
        },
        "id": "-Jq_C77PRO1w",
        "outputId": "c28dcec1-c87e-4fe7-b131-6155fcd33334"
      },
      "execution_count": 14,
      "outputs": [
        {
          "output_type": "execute_result",
          "data": {
            "text/plain": [
              "dict_keys(['breakfast', 'lunch', 'dinner'])"
            ]
          },
          "metadata": {},
          "execution_count": 14
        }
      ]
    },
    {
      "cell_type": "code",
      "source": [
        "my_dict.values()"
      ],
      "metadata": {
        "colab": {
          "base_uri": "https://localhost:8080/"
        },
        "id": "TezHO5RORQHQ",
        "outputId": "1b732421-1919-4bd8-a6eb-0b79f7420ae4"
      },
      "execution_count": 15,
      "outputs": [
        {
          "output_type": "execute_result",
          "data": {
            "text/plain": [
              "dict_values(['eggs', 'salad', 'chicken'])"
            ]
          },
          "metadata": {},
          "execution_count": 15
        }
      ]
    },
    {
      "cell_type": "code",
      "source": [
        "for meal_time, meal in my_dict.items():\n",
        "    print(f\"For this {meal_time}, I like to eat {meal}\")"
      ],
      "metadata": {
        "colab": {
          "base_uri": "https://localhost:8080/"
        },
        "id": "DzUaCk9gRSdg",
        "outputId": "e595cb0e-92ef-4a09-b4fc-485b9827d817"
      },
      "execution_count": 16,
      "outputs": [
        {
          "output_type": "stream",
          "name": "stdout",
          "text": [
            "For this breakfast, I like to eat eggs\n",
            "For this lunch, I like to eat salad\n",
            "For this dinner, I like to eat chicken\n"
          ]
        }
      ]
    },
    {
      "cell_type": "code",
      "source": [
        ""
      ],
      "metadata": {
        "id": "etGds2V1Rgwl"
      },
      "execution_count": null,
      "outputs": []
    }
  ]
}